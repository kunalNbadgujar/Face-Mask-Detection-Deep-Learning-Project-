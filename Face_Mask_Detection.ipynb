{
  "cells": [
    {
      "cell_type": "markdown",
      "metadata": {
        "id": "view-in-github",
        "colab_type": "text"
      },
      "source": [
        "<a href=\"https://colab.research.google.com/github/kunalNbadgujar/Face-Mask-Detection-Deep-Learning-Project-/blob/main/Face_Mask_Detection.ipynb\" target=\"_parent\"><img src=\"https://colab.research.google.com/assets/colab-badge.svg\" alt=\"Open In Colab\"/></a>"
      ]
    },
    {
      "cell_type": "markdown",
      "metadata": {
        "id": "SgoZgq1PUh2O"
      },
      "source": [
        "Deep Learning Project"
      ]
    },
    {
      "cell_type": "markdown",
      "metadata": {
        "id": "KsmAYQVZUU0K"
      },
      "source": [
        "# **FACE MASK DETECTION**"
      ]
    },
    {
      "cell_type": "markdown",
      "metadata": {
        "id": "GKtXZJy4UpZb"
      },
      "source": [
        "**Problem Statement** :-"
      ]
    },
    {
      "cell_type": "markdown",
      "metadata": {
        "id": "5ZE_TR21VBho"
      },
      "source": [
        "The Dataset contains images of people wearing masks and people not wearing masks. The database contains 10,000 colored images in the training folder, 800 images in the validation folder, and 992 images in the test folder.\n",
        "\n",
        " Task is to create a CNN model for identifying whether a person in the image is wearing a mask or not."
      ]
    },
    {
      "cell_type": "markdown",
      "metadata": {
        "id": "G7LHWH6dIHi3"
      },
      "source": [
        "### **let's Start...**"
      ]
    },
    {
      "cell_type": "markdown",
      "metadata": {
        "id": "YvySqyRfINdv"
      },
      "source": [
        "\n",
        "\n",
        "---\n",
        "Mounting Drive\n"
      ]
    },
    {
      "cell_type": "code",
      "execution_count": 88,
      "metadata": {
        "id": "ghkSpyEYV34z"
      },
      "outputs": [],
      "source": [
        "from google.colab import drive"
      ]
    },
    {
      "cell_type": "code",
      "execution_count": 89,
      "metadata": {
        "colab": {
          "base_uri": "https://localhost:8080/"
        },
        "id": "IWWMtrjxWMTW",
        "outputId": "fb847d12-fc5e-4f3a-d27d-05df437aa798"
      },
      "outputs": [
        {
          "output_type": "stream",
          "name": "stdout",
          "text": [
            "Drive already mounted at /content/drive; to attempt to forcibly remount, call drive.mount(\"/content/drive\", force_remount=True).\n"
          ]
        }
      ],
      "source": [
        "drive.mount('/content/drive')"
      ]
    },
    {
      "cell_type": "markdown",
      "source": [
        "."
      ],
      "metadata": {
        "id": "Ps9swn0g2GWG"
      }
    },
    {
      "cell_type": "markdown",
      "source": [
        "."
      ],
      "metadata": {
        "id": "MaMZQFhB2Ghc"
      }
    },
    {
      "cell_type": "markdown",
      "metadata": {
        "id": "nu5eDMneIdht"
      },
      "source": [
        "\n",
        "---\n",
        "**Import Libraries** \n",
        "\n"
      ]
    },
    {
      "cell_type": "code",
      "execution_count": 90,
      "metadata": {
        "id": "aFCHCf2tHuOf"
      },
      "outputs": [],
      "source": [
        "import numpy as np\n",
        "import pandas as pd\n",
        "\n",
        "import tensorflow as tf\n",
        "from tensorflow import keras"
      ]
    },
    {
      "cell_type": "code",
      "execution_count": 91,
      "metadata": {
        "id": "4XWRgQMiKPAF"
      },
      "outputs": [],
      "source": [
        "from tensorflow.keras.preprocessing.image import ImageDataGenerator"
      ]
    },
    {
      "cell_type": "markdown",
      "source": [
        "."
      ],
      "metadata": {
        "id": "ZQYK8u1d2QTC"
      }
    },
    {
      "cell_type": "markdown",
      "source": [
        ".\n",
        ".\n",
        "\n",
        "\n",
        "---\n",
        "\n",
        "\n",
        "**Importing Directories**"
      ],
      "metadata": {
        "id": "zOrfgCBK16Wr"
      }
    },
    {
      "cell_type": "code",
      "execution_count": 92,
      "metadata": {
        "id": "B9kH5BrlLFNa"
      },
      "outputs": [],
      "source": [
        "train_dir        = \"/content/drive/MyDrive/Internshala Assignement/Final Project/images/Train\"\n",
        "test_dir         = \"/content/drive/MyDrive/Internshala Assignement/Final Project/images/Test\"\n",
        "validation_dir   = \"/content/drive/MyDrive/Internshala Assignement/Final Project/images/Validation\""
      ]
    },
    {
      "cell_type": "markdown",
      "source": [
        "."
      ],
      "metadata": {
        "id": "xbdt1qCb2Tcm"
      }
    },
    {
      "cell_type": "markdown",
      "source": [
        "."
      ],
      "metadata": {
        "id": "cGAWL8nv2Uox"
      }
    },
    {
      "cell_type": "markdown",
      "source": [
        "**Pre-Processing**"
      ],
      "metadata": {
        "id": "Blzf3ZfU2V1T"
      }
    },
    {
      "cell_type": "code",
      "execution_count": 93,
      "metadata": {
        "id": "lJJ8uvfBNjw8"
      },
      "outputs": [],
      "source": [
        "train_data_gen = ImageDataGenerator(\n",
        "    rescale =   1./255,\n",
        "    rotation_range = 40,\n",
        "    width_shift_range = 0.2,\n",
        "    height_shift_range = 0.2,\n",
        "    shear_range = 0.2,\n",
        "    zoom_range = 0.2,\n",
        "    horizontal_flip = True\n",
        ")\n"
      ]
    },
    {
      "cell_type": "code",
      "execution_count": 94,
      "metadata": {
        "id": "xKxeTz2ZOdE4"
      },
      "outputs": [],
      "source": [
        "test_data_gen = ImageDataGenerator(\n",
        "    rescale = 1./255\n",
        ")"
      ]
    },
    {
      "cell_type": "code",
      "execution_count": 95,
      "metadata": {
        "colab": {
          "base_uri": "https://localhost:8080/"
        },
        "id": "uSUVgeUSOr7X",
        "outputId": "1f52981a-06d9-4388-b1eb-9a2bf393311f"
      },
      "outputs": [
        {
          "output_type": "stream",
          "name": "stdout",
          "text": [
            "Found 10000 images belonging to 2 classes.\n"
          ]
        }
      ],
      "source": [
        "train_generator =  trian_data_gen.flow_from_directory(\n",
        "    train_dir,\n",
        "    target_size=(128, 128),\n",
        "    batch_size = 20,\n",
        "    class_mode = 'binary'\n",
        ") \n",
        "    "
      ]
    },
    {
      "cell_type": "code",
      "execution_count": 96,
      "metadata": {
        "colab": {
          "base_uri": "https://localhost:8080/"
        },
        "id": "ey8alET2RHuC",
        "outputId": "c20d61ff-bfd1-4814-f651-89cc18ebef04"
      },
      "outputs": [
        {
          "output_type": "stream",
          "name": "stdout",
          "text": [
            "Found 800 images belonging to 2 classes.\n"
          ]
        }
      ],
      "source": [
        "validation_generator = test_data_gen.flow_from_directory(\n",
        "    validation_dir,\n",
        "    target_size = (128,128),\n",
        "    batch_size = 20,\n",
        "    class_mode = 'binary'\n",
        "    \n",
        ")"
      ]
    },
    {
      "cell_type": "markdown",
      "source": [
        "."
      ],
      "metadata": {
        "id": "oa4iDNVa2erl"
      }
    },
    {
      "cell_type": "markdown",
      "source": [
        "."
      ],
      "metadata": {
        "id": "9LG92ttA2fVJ"
      }
    },
    {
      "cell_type": "markdown",
      "source": [
        "**Training Convolutional Model**"
      ],
      "metadata": {
        "id": "y5zHNzmc2h8E"
      }
    },
    {
      "cell_type": "code",
      "execution_count": 97,
      "metadata": {
        "id": "cPB8VBohSZOl"
      },
      "outputs": [],
      "source": [
        "from tensorflow.keras import layers\n",
        "from tensorflow.keras import models"
      ]
    },
    {
      "cell_type": "code",
      "execution_count": 98,
      "metadata": {
        "id": "rRpTS9N9TB0a"
      },
      "outputs": [],
      "source": [
        "model  = models.Sequential()\n",
        "\n",
        "\n",
        "model.add(layers.Conv2D(32,(3,3),activation='relu',\n",
        "                        input_shape=(128,128,3)))\n",
        "model.add(layers.MaxPooling2D((2,2)))\n",
        "\n",
        "\n",
        "\n",
        "\n",
        "model.add(layers.Conv2D(64,(3,3),activation = 'relu'))\n",
        "model.add(layers.MaxPooling2D((2,2)))\n",
        "\n",
        "\n",
        "\n",
        "\n",
        "model.add(layers.Conv2D(128,(3,3),activation = 'relu'))\n",
        "model.add(layers.MaxPooling2D((2,2)))\n",
        "\n",
        "\n",
        "\n",
        "model.add(layers.Conv2D(128,(3,3),activation = 'relu'))\n",
        "model.add(layers.MaxPooling2D((2,2)))\n",
        "\n",
        "\n",
        "\n",
        "\n",
        "\n",
        "model.add(layers.Flatten())\n",
        "model.add(layers.Dense(512,activation='relu'))\n",
        "model.add(layers.Dense(1,activation='sigmoid'))"
      ]
    },
    {
      "cell_type": "code",
      "execution_count": 99,
      "metadata": {
        "colab": {
          "base_uri": "https://localhost:8080/"
        },
        "id": "C1VAEKX8Ukv3",
        "outputId": "362557bd-7543-4839-b55e-10fdb6f2ccae"
      },
      "outputs": [
        {
          "output_type": "stream",
          "name": "stdout",
          "text": [
            "Model: \"sequential_11\"\n",
            "_________________________________________________________________\n",
            " Layer (type)                Output Shape              Param #   \n",
            "=================================================================\n",
            " conv2d_21 (Conv2D)          (None, 126, 126, 32)      896       \n",
            "                                                                 \n",
            " max_pooling2d_20 (MaxPoolin  (None, 63, 63, 32)       0         \n",
            " g2D)                                                            \n",
            "                                                                 \n",
            " conv2d_22 (Conv2D)          (None, 61, 61, 64)        18496     \n",
            "                                                                 \n",
            " max_pooling2d_21 (MaxPoolin  (None, 30, 30, 64)       0         \n",
            " g2D)                                                            \n",
            "                                                                 \n",
            " conv2d_23 (Conv2D)          (None, 28, 28, 128)       73856     \n",
            "                                                                 \n",
            " max_pooling2d_22 (MaxPoolin  (None, 14, 14, 128)      0         \n",
            " g2D)                                                            \n",
            "                                                                 \n",
            " conv2d_24 (Conv2D)          (None, 12, 12, 128)       147584    \n",
            "                                                                 \n",
            " max_pooling2d_23 (MaxPoolin  (None, 6, 6, 128)        0         \n",
            " g2D)                                                            \n",
            "                                                                 \n",
            " flatten_7 (Flatten)         (None, 4608)              0         \n",
            "                                                                 \n",
            " dense_11 (Dense)            (None, 512)               2359808   \n",
            "                                                                 \n",
            " dense_12 (Dense)            (None, 1)                 513       \n",
            "                                                                 \n",
            "=================================================================\n",
            "Total params: 2,601,153\n",
            "Trainable params: 2,601,153\n",
            "Non-trainable params: 0\n",
            "_________________________________________________________________\n"
          ]
        }
      ],
      "source": [
        "model.summary()\n"
      ]
    },
    {
      "cell_type": "code",
      "execution_count": 100,
      "metadata": {
        "id": "820_Bm9uWPTS"
      },
      "outputs": [],
      "source": [
        "from tensorflow.keras import optimizers"
      ]
    },
    {
      "cell_type": "code",
      "execution_count": 101,
      "metadata": {
        "colab": {
          "base_uri": "https://localhost:8080/"
        },
        "id": "koq_0mxVWv2f",
        "outputId": "5b04c70a-4568-4694-b683-5a1b14494040"
      },
      "outputs": [
        {
          "output_type": "stream",
          "name": "stderr",
          "text": [
            "WARNING:absl:`lr` is deprecated in Keras optimizer, please use `learning_rate` or use the legacy optimizer, e.g.,tf.keras.optimizers.legacy.RMSprop.\n"
          ]
        }
      ],
      "source": [
        "model.compile(loss = 'binary_crossentropy',\n",
        "              optimizer = optimizers.RMSprop(lr=1e-4),\n",
        "              metrics= ['acc'])"
      ]
    },
    {
      "cell_type": "code",
      "execution_count": 102,
      "metadata": {
        "colab": {
          "base_uri": "https://localhost:8080/"
        },
        "id": "Ad2tIDb1Xcgb",
        "outputId": "78fe0fe7-9c4f-4844-ac73-ba4ed6e2fc72"
      },
      "outputs": [
        {
          "output_type": "stream",
          "name": "stderr",
          "text": [
            "<ipython-input-102-def8cc5844a9>:1: UserWarning: `Model.fit_generator` is deprecated and will be removed in a future version. Please use `Model.fit`, which supports generators.\n",
            "  history = model.fit_generator(\n"
          ]
        },
        {
          "output_type": "stream",
          "name": "stdout",
          "text": [
            "Epoch 1/5\n",
            "500/500 [==============================] - 536s 1s/step - loss: 0.2969 - acc: 0.8842 - val_loss: 0.4067 - val_acc: 0.7937\n",
            "Epoch 2/5\n",
            "500/500 [==============================] - 477s 954ms/step - loss: 0.2099 - acc: 0.9190 - val_loss: 0.0829 - val_acc: 0.9737\n",
            "Epoch 3/5\n",
            "500/500 [==============================] - 488s 974ms/step - loss: 0.1862 - acc: 0.9360 - val_loss: 0.1194 - val_acc: 0.9625\n",
            "Epoch 4/5\n",
            "500/500 [==============================] - 486s 971ms/step - loss: 0.1642 - acc: 0.9445 - val_loss: 0.0744 - val_acc: 0.9762\n",
            "Epoch 5/5\n",
            "500/500 [==============================] - 500s 1s/step - loss: 0.1484 - acc: 0.9482 - val_loss: 0.0733 - val_acc: 0.9787\n"
          ]
        }
      ],
      "source": [
        "history = model.fit_generator(\n",
        "    train_generator,\n",
        "    steps_per_epoch = 500,\n",
        "    epochs = 5,\n",
        "    validation_data = validation_generator,\n",
        "    validation_steps = 40\n",
        ")"
      ]
    },
    {
      "cell_type": "code",
      "execution_count": 103,
      "metadata": {
        "id": "q8kR7DkXZLW8"
      },
      "outputs": [],
      "source": [
        "model.save('face_mask_detection_conv_model.h5')"
      ]
    },
    {
      "cell_type": "code",
      "source": [
        "import matplotlib.pyplot as plt"
      ],
      "metadata": {
        "id": "e4qZCqA8xLgJ"
      },
      "execution_count": 104,
      "outputs": []
    },
    {
      "cell_type": "code",
      "source": [
        "pd.DataFrame(history.history).plot(figsize = (8,5))\n",
        "plt.grid(True)\n",
        "plt.gca().set_ylim(0,1)\n",
        "plt.show()"
      ],
      "metadata": {
        "colab": {
          "base_uri": "https://localhost:8080/",
          "height": 451
        },
        "id": "mzUdmyfPxTAm",
        "outputId": "759e65fc-0e0c-4b1e-8243-88d899e45266"
      },
      "execution_count": 105,
      "outputs": [
        {
          "output_type": "display_data",
          "data": {
            "text/plain": [
              "<Figure size 800x500 with 1 Axes>"
            ],
            "image/png": "[encoded data removed]"
          },
          "metadata": {}
        }
      ]
    },
    {
      "cell_type": "markdown",
      "source": [
        "."
      ],
      "metadata": {
        "id": "CqOPb2St2t_z"
      }
    },
    {
      "cell_type": "markdown",
      "source": [
        "."
      ],
      "metadata": {
        "id": "ICZ0GBR02uh8"
      }
    },
    {
      "cell_type": "markdown",
      "source": [
        "."
      ],
      "metadata": {
        "id": "XC2d1zWm22iC"
      }
    },
    {
      "cell_type": "markdown",
      "source": [
        "."
      ],
      "metadata": {
        "id": "sGRoQSQh23HE"
      }
    },
    {
      "cell_type": "markdown",
      "source": [
        "\n",
        "\n",
        "---\n",
        "\n",
        "\n",
        "**Train Model Using VGG19**"
      ],
      "metadata": {
        "id": "i6zf7nHy2vLY"
      }
    },
    {
      "cell_type": "code",
      "source": [
        "from tensorflow.keras.applications import VGG19"
      ],
      "metadata": {
        "id": "C-PeQlWnxatq"
      },
      "execution_count": 106,
      "outputs": []
    },
    {
      "cell_type": "code",
      "source": [
        "conv_base = VGG19(weights='imagenet',\n",
        "                  include_top=False,\n",
        "                  input_shape = (128,128,3))\n",
        "conv_base.summary()"
      ],
      "metadata": {
        "colab": {
          "base_uri": "https://localhost:8080/"
        },
        "id": "6Xz66Cery9oU",
        "outputId": "3175c018-b4df-4696-dff9-eda39039e165"
      },
      "execution_count": 107,
      "outputs": [
        {
          "output_type": "stream",
          "name": "stdout",
          "text": [
            "Model: \"vgg19\"\n",
            "_________________________________________________________________\n",
            " Layer (type)                Output Shape              Param #   \n",
            "=================================================================\n",
            " input_2 (InputLayer)        [(None, 128, 128, 3)]     0         \n",
            "                                                                 \n",
            " block1_conv1 (Conv2D)       (None, 128, 128, 64)      1792      \n",
            "                                                                 \n",
            " block1_conv2 (Conv2D)       (None, 128, 128, 64)      36928     \n",
            "                                                                 \n",
            " block1_pool (MaxPooling2D)  (None, 64, 64, 64)        0         \n",
            "                                                                 \n",
            " block2_conv1 (Conv2D)       (None, 64, 64, 128)       73856     \n",
            "                                                                 \n",
            " block2_conv2 (Conv2D)       (None, 64, 64, 128)       147584    \n",
            "                                                                 \n",
            " block2_pool (MaxPooling2D)  (None, 32, 32, 128)       0         \n",
            "                                                                 \n",
            " block3_conv1 (Conv2D)       (None, 32, 32, 256)       295168    \n",
            "                                                                 \n",
            " block3_conv2 (Conv2D)       (None, 32, 32, 256)       590080    \n",
            "                                                                 \n",
            " block3_conv3 (Conv2D)       (None, 32, 32, 256)       590080    \n",
            "                                                                 \n",
            " block3_conv4 (Conv2D)       (None, 32, 32, 256)       590080    \n",
            "                                                                 \n",
            " block3_pool (MaxPooling2D)  (None, 16, 16, 256)       0         \n",
            "                                                                 \n",
            " block4_conv1 (Conv2D)       (None, 16, 16, 512)       1180160   \n",
            "                                                                 \n",
            " block4_conv2 (Conv2D)       (None, 16, 16, 512)       2359808   \n",
            "                                                                 \n",
            " block4_conv3 (Conv2D)       (None, 16, 16, 512)       2359808   \n",
            "                                                                 \n",
            " block4_conv4 (Conv2D)       (None, 16, 16, 512)       2359808   \n",
            "                                                                 \n",
            " block4_pool (MaxPooling2D)  (None, 8, 8, 512)         0         \n",
            "                                                                 \n",
            " block5_conv1 (Conv2D)       (None, 8, 8, 512)         2359808   \n",
            "                                                                 \n",
            " block5_conv2 (Conv2D)       (None, 8, 8, 512)         2359808   \n",
            "                                                                 \n",
            " block5_conv3 (Conv2D)       (None, 8, 8, 512)         2359808   \n",
            "                                                                 \n",
            " block5_conv4 (Conv2D)       (None, 8, 8, 512)         2359808   \n",
            "                                                                 \n",
            " block5_pool (MaxPooling2D)  (None, 4, 4, 512)         0         \n",
            "                                                                 \n",
            "=================================================================\n",
            "Total params: 20,024,384\n",
            "Trainable params: 20,024,384\n",
            "Non-trainable params: 0\n",
            "_________________________________________________________________\n"
          ]
        }
      ]
    },
    {
      "cell_type": "code",
      "source": [
        "model_VGG19 = models.Sequential()\n",
        "model_VGG19.add(conv_base)\n",
        "model_VGG19.add(layers.Flatten())\n",
        "model_VGG19.add(layers.Dense(256,activation='relu'))\n",
        "model_VGG19.add(layers.Dense(1,activation='sigmoid'))\n"
      ],
      "metadata": {
        "id": "fUlEAQMqzfkK"
      },
      "execution_count": 108,
      "outputs": []
    },
    {
      "cell_type": "code",
      "source": [
        "model_VGG19.summary"
      ],
      "metadata": {
        "colab": {
          "base_uri": "https://localhost:8080/"
        },
        "id": "geE3WHml0PYz",
        "outputId": "cf22bdb3-ec70-43fb-9c26-9afa5e278863"
      },
      "execution_count": 109,
      "outputs": [
        {
          "output_type": "execute_result",
          "data": {
            "text/plain": [
              "<bound method Model.summary of <keras.engine.sequential.Sequential object at 0x7ffa2c76dc10>>"
            ]
          },
          "metadata": {},
          "execution_count": 109
        }
      ]
    },
    {
      "cell_type": "code",
      "source": [
        "model_VGG19.compile(loss = 'binary_crossentropy',\n",
        "                    optimizer=optimizers.RMSprop(lr=1e-4),\n",
        "                    metrics=['acc'])"
      ],
      "metadata": {
        "colab": {
          "base_uri": "https://localhost:8080/"
        },
        "id": "RKQGSHbU0iyh",
        "outputId": "53b3db51-3c7e-41a0-ad27-466626baa6e3"
      },
      "execution_count": 110,
      "outputs": [
        {
          "output_type": "stream",
          "name": "stderr",
          "text": [
            "WARNING:absl:`lr` is deprecated in Keras optimizer, please use `learning_rate` or use the legacy optimizer, e.g.,tf.keras.optimizers.legacy.RMSprop.\n"
          ]
        }
      ]
    },
    {
      "cell_type": "code",
      "source": [
        "history_VGG19 = model.fit(\n",
        "    train_generator,\n",
        "    steps_per_epoch = 500,\n",
        "    epochs = 5,\n",
        "    validation_data = validation_generator,\n",
        "    validation_steps = 40\n",
        ")"
      ],
      "metadata": {
        "colab": {
          "base_uri": "https://localhost:8080/"
        },
        "id": "G1rQOE7Z1Ouj",
        "outputId": "4fc0d30f-b701-4c1d-f4c1-1af228c5a4d9"
      },
      "execution_count": 111,
      "outputs": [
        {
          "output_type": "stream",
          "name": "stdout",
          "text": [
            "Epoch 1/5\n",
            "500/500 [==============================] - 480s 960ms/step - loss: 0.1383 - acc: 0.9533 - val_loss: 0.0834 - val_acc: 0.9775\n",
            "Epoch 2/5\n",
            "500/500 [==============================] - 483s 967ms/step - loss: 0.1312 - acc: 0.9562 - val_loss: 0.0719 - val_acc: 0.9787\n",
            "Epoch 3/5\n",
            "500/500 [==============================] - 492s 982ms/step - loss: 0.1149 - acc: 0.9603 - val_loss: 0.1094 - val_acc: 0.9575\n",
            "Epoch 4/5\n",
            "500/500 [==============================] - 490s 979ms/step - loss: 0.1142 - acc: 0.9598 - val_loss: 0.1744 - val_acc: 0.9488\n",
            "Epoch 5/5\n",
            "500/500 [==============================] - 489s 977ms/step - loss: 0.1096 - acc: 0.9640 - val_loss: 0.0724 - val_acc: 0.9762\n"
          ]
        }
      ]
    },
    {
      "cell_type": "code",
      "source": [
        "pd.DataFrame(history_VGG19.history_VGG19)"
      ],
      "metadata": {
        "colab": {
          "base_uri": "https://localhost:8080/",
          "height": 165
        },
        "id": "90FBu0vG6xHM",
        "outputId": "47fed8ad-64a4-40b6-d6b7-b6b5f53f3fb7"
      },
      "execution_count": 123,
      "outputs": [
        {
          "output_type": "error",
          "ename": "AttributeError",
          "evalue": "ignored",
          "traceback": [
            "\u001b[0;31m---------------------------------------------------------------------------\u001b[0m",
            "\u001b[0;31mAttributeError\u001b[0m                            Traceback (most recent call last)",
            "\u001b[0;32m<ipython-input-123-ff3f4d767782>\u001b[0m in \u001b[0;36m<cell line: 1>\u001b[0;34m()\u001b[0m\n\u001b[0;32m----> 1\u001b[0;31m \u001b[0mpd\u001b[0m\u001b[0;34m.\u001b[0m\u001b[0mDataFrame\u001b[0m\u001b[0;34m(\u001b[0m\u001b[0mhistory_VGG19\u001b[0m\u001b[0;34m.\u001b[0m\u001b[0mhistory_VGG19\u001b[0m\u001b[0;34m)\u001b[0m\u001b[0;34m;\u001b[0m\u001b[0;34m\u001b[0m\u001b[0;34m\u001b[0m\u001b[0m\n\u001b[0m",
            "\u001b[0;31mAttributeError\u001b[0m: 'History' object has no attribute 'history_VGG19'"
          ]
        }
      ]
    },
    {
      "cell_type": "code",
      "source": [],
      "metadata": {
        "id": "Teo-3zot64s8"
      },
      "execution_count": null,
      "outputs": []
    }
  ],
  "metadata": {
    "colab": {
      "provenance": [],
      "authorship_tag": "ABX9TyOV23w9fN9V0H6XtD2eVy2O",
      "include_colab_link": true
    },
    "kernelspec": {
      "display_name": "Python 3",
      "name": "python3"
    },
    "language_info": {
      "name": "python"
    }
  },
  "nbformat": 4,
  "nbformat_minor": 0
}