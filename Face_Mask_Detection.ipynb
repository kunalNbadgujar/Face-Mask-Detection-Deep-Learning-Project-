{
  "nbformat": 4,
  "nbformat_minor": 0,
  "metadata": {
    "colab": {
      "provenance": [],
      "authorship_tag": "ABX9TyP4k/HHB8sMXPd8KnNhgnZY",
      "include_colab_link": true
    },
    "kernelspec": {
      "name": "python3",
      "display_name": "Python 3"
    },
    "language_info": {
      "name": "python"
    }
  },
  "cells": [
    {
      "cell_type": "markdown",
      "metadata": {
        "id": "view-in-github",
        "colab_type": "text"
      },
      "source": [
        "<a href=\"https://colab.research.google.com/github/kunalNbadgujar/Face-Mask-Detection-Deep-Learning-Project-/blob/main/Face_Mask_Detection.ipynb\" target=\"_parent\"><img src=\"https://colab.research.google.com/assets/colab-badge.svg\" alt=\"Open In Colab\"/></a>"
      ]
    },
    {
      "cell_type": "markdown",
      "source": [
        "Deep Learning Project"
      ],
      "metadata": {
        "id": "SgoZgq1PUh2O"
      }
    },
    {
      "cell_type": "markdown",
      "source": [
        "# **FACE MASK DETECTION**"
      ],
      "metadata": {
        "id": "KsmAYQVZUU0K"
      }
    },
    {
      "cell_type": "markdown",
      "source": [
        "**Problem Statement** :-"
      ],
      "metadata": {
        "id": "GKtXZJy4UpZb"
      }
    },
    {
      "cell_type": "markdown",
      "source": [
        "The Dataset contains images of people wearing masks and people not wearing masks. The database contains 10,000 colored images in the training folder, 800 images in the validation folder, and 992 images in the test folder.\n",
        "\n",
        " Task is to create a CNN model for identifying whether a person in the image is wearing a mask or not."
      ],
      "metadata": {
        "id": "5ZE_TR21VBho"
      }
    }
  ]
}